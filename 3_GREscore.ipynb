{
 "cells": [
  {
   "cell_type": "code",
   "execution_count": 1,
   "id": "aa93701f",
   "metadata": {
    "execution": {
     "iopub.execute_input": "2022-11-08T18:16:22.548853Z",
     "iopub.status.busy": "2022-11-08T18:16:22.548336Z",
     "iopub.status.idle": "2022-11-08T18:16:23.647615Z",
     "shell.execute_reply": "2022-11-08T18:16:23.646612Z"
    },
    "id": "aa93701f",
    "papermill": {
     "duration": 1.111756,
     "end_time": "2022-11-08T18:16:23.650326",
     "exception": false,
     "start_time": "2022-11-08T18:16:22.53857",
     "status": "completed"
    },
    "tags": []
   },
   "outputs": [],
   "source": [
    "import numpy as np\n",
    "import pandas as pd\n",
    "import seaborn as sns\n",
    "import matplotlib.pyplot as plt"
   ]
  },
  {
   "cell_type": "code",
   "execution_count": null,
   "id": "b6f9881e",
   "metadata": {},
   "outputs": [],
   "source": []
  },
  {
   "cell_type": "code",
   "execution_count": null,
   "id": "81062d7e",
   "metadata": {},
   "outputs": [],
   "source": []
  },
  {
   "cell_type": "code",
   "execution_count": null,
   "id": "faaa08e8",
   "metadata": {},
   "outputs": [],
   "source": []
  },
  {
   "cell_type": "code",
   "execution_count": null,
   "id": "cb445c02",
   "metadata": {},
   "outputs": [],
   "source": []
  },
  {
   "cell_type": "code",
   "execution_count": null,
   "id": "e71850bb",
   "metadata": {},
   "outputs": [],
   "source": []
  },
  {
   "cell_type": "code",
   "execution_count": null,
   "id": "a8941fa8",
   "metadata": {},
   "outputs": [],
   "source": []
  },
  {
   "cell_type": "code",
   "execution_count": null,
   "id": "6dd5abb6",
   "metadata": {},
   "outputs": [],
   "source": []
  },
  {
   "cell_type": "code",
   "execution_count": null,
   "id": "1e958467",
   "metadata": {},
   "outputs": [],
   "source": []
  },
  {
   "cell_type": "code",
   "execution_count": null,
   "id": "dd48d592",
   "metadata": {},
   "outputs": [],
   "source": []
  },
  {
   "cell_type": "code",
   "execution_count": null,
   "id": "48694126",
   "metadata": {},
   "outputs": [],
   "source": []
  },
  {
   "cell_type": "code",
   "execution_count": null,
   "id": "be0509cd",
   "metadata": {},
   "outputs": [],
   "source": []
  },
  {
   "cell_type": "code",
   "execution_count": null,
   "id": "b728974d",
   "metadata": {},
   "outputs": [],
   "source": []
  },
  {
   "cell_type": "code",
   "execution_count": null,
   "id": "64bfe7df",
   "metadata": {},
   "outputs": [],
   "source": []
  },
  {
   "cell_type": "code",
   "execution_count": null,
   "id": "87512773",
   "metadata": {},
   "outputs": [],
   "source": []
  },
  {
   "cell_type": "code",
   "execution_count": null,
   "id": "b022a8e2",
   "metadata": {},
   "outputs": [],
   "source": []
  },
  {
   "cell_type": "code",
   "execution_count": null,
   "id": "70c5776f",
   "metadata": {},
   "outputs": [],
   "source": []
  },
  {
   "cell_type": "code",
   "execution_count": null,
   "id": "f4021540",
   "metadata": {},
   "outputs": [],
   "source": []
  },
  {
   "cell_type": "code",
   "execution_count": null,
   "id": "54796a88",
   "metadata": {},
   "outputs": [],
   "source": []
  },
  {
   "cell_type": "code",
   "execution_count": null,
   "id": "873db801",
   "metadata": {},
   "outputs": [],
   "source": []
  },
  {
   "cell_type": "code",
   "execution_count": null,
   "id": "7cd57908",
   "metadata": {},
   "outputs": [],
   "source": []
  },
  {
   "cell_type": "code",
   "execution_count": 2,
   "id": "dbd041b1",
   "metadata": {
    "execution": {
     "iopub.execute_input": "2022-11-08T18:16:23.668423Z",
     "iopub.status.busy": "2022-11-08T18:16:23.667296Z",
     "iopub.status.idle": "2022-11-08T18:16:23.690746Z",
     "shell.execute_reply": "2022-11-08T18:16:23.689876Z"
    },
    "id": "dbd041b1",
    "papermill": {
     "duration": 0.035301,
     "end_time": "2022-11-08T18:16:23.69355",
     "exception": false,
     "start_time": "2022-11-08T18:16:23.658249",
     "status": "completed"
    },
    "tags": []
   },
   "outputs": [],
   "source": [
    "df = pd.read_csv('Admission_Predict_Ver1.1.csv')"
   ]
  },
  {
   "cell_type": "code",
   "execution_count": 3,
   "id": "ff644097",
   "metadata": {
    "execution": {
     "iopub.execute_input": "2022-11-08T18:16:23.712899Z",
     "iopub.status.busy": "2022-11-08T18:16:23.71058Z",
     "iopub.status.idle": "2022-11-08T18:16:23.73818Z",
     "shell.execute_reply": "2022-11-08T18:16:23.73706Z"
    },
    "id": "ff644097",
    "outputId": "e608f733-3415-4c12-f5dd-f72850a900f7",
    "papermill": {
     "duration": 0.039835,
     "end_time": "2022-11-08T18:16:23.741244",
     "exception": false,
     "start_time": "2022-11-08T18:16:23.701409",
     "status": "completed"
    },
    "tags": []
   },
   "outputs": [
    {
     "data": {
      "text/html": [
       "<div>\n",
       "<style scoped>\n",
       "    .dataframe tbody tr th:only-of-type {\n",
       "        vertical-align: middle;\n",
       "    }\n",
       "\n",
       "    .dataframe tbody tr th {\n",
       "        vertical-align: top;\n",
       "    }\n",
       "\n",
       "    .dataframe thead th {\n",
       "        text-align: right;\n",
       "    }\n",
       "</style>\n",
       "<table border=\"1\" class=\"dataframe\">\n",
       "  <thead>\n",
       "    <tr style=\"text-align: right;\">\n",
       "      <th></th>\n",
       "      <th>Serial No.</th>\n",
       "      <th>GRE Score</th>\n",
       "      <th>TOEFL Score</th>\n",
       "      <th>University Rating</th>\n",
       "      <th>SOP</th>\n",
       "      <th>LOR</th>\n",
       "      <th>CGPA</th>\n",
       "      <th>Research</th>\n",
       "      <th>Chance of Admit</th>\n",
       "    </tr>\n",
       "  </thead>\n",
       "  <tbody>\n",
       "    <tr>\n",
       "      <th>0</th>\n",
       "      <td>1</td>\n",
       "      <td>337</td>\n",
       "      <td>118</td>\n",
       "      <td>4</td>\n",
       "      <td>4.5</td>\n",
       "      <td>4.5</td>\n",
       "      <td>9.65</td>\n",
       "      <td>1</td>\n",
       "      <td>0.92</td>\n",
       "    </tr>\n",
       "    <tr>\n",
       "      <th>1</th>\n",
       "      <td>2</td>\n",
       "      <td>324</td>\n",
       "      <td>107</td>\n",
       "      <td>4</td>\n",
       "      <td>4.0</td>\n",
       "      <td>4.5</td>\n",
       "      <td>8.87</td>\n",
       "      <td>1</td>\n",
       "      <td>0.76</td>\n",
       "    </tr>\n",
       "    <tr>\n",
       "      <th>2</th>\n",
       "      <td>3</td>\n",
       "      <td>316</td>\n",
       "      <td>104</td>\n",
       "      <td>3</td>\n",
       "      <td>3.0</td>\n",
       "      <td>3.5</td>\n",
       "      <td>8.00</td>\n",
       "      <td>1</td>\n",
       "      <td>0.72</td>\n",
       "    </tr>\n",
       "    <tr>\n",
       "      <th>3</th>\n",
       "      <td>4</td>\n",
       "      <td>322</td>\n",
       "      <td>110</td>\n",
       "      <td>3</td>\n",
       "      <td>3.5</td>\n",
       "      <td>2.5</td>\n",
       "      <td>8.67</td>\n",
       "      <td>1</td>\n",
       "      <td>0.80</td>\n",
       "    </tr>\n",
       "    <tr>\n",
       "      <th>4</th>\n",
       "      <td>5</td>\n",
       "      <td>314</td>\n",
       "      <td>103</td>\n",
       "      <td>2</td>\n",
       "      <td>2.0</td>\n",
       "      <td>3.0</td>\n",
       "      <td>8.21</td>\n",
       "      <td>0</td>\n",
       "      <td>0.65</td>\n",
       "    </tr>\n",
       "  </tbody>\n",
       "</table>\n",
       "</div>"
      ],
      "text/plain": [
       "   Serial No.  GRE Score  TOEFL Score  University Rating  SOP  LOR   CGPA  \\\n",
       "0           1        337          118                  4  4.5   4.5  9.65   \n",
       "1           2        324          107                  4  4.0   4.5  8.87   \n",
       "2           3        316          104                  3  3.0   3.5  8.00   \n",
       "3           4        322          110                  3  3.5   2.5  8.67   \n",
       "4           5        314          103                  2  2.0   3.0  8.21   \n",
       "\n",
       "   Research  Chance of Admit   \n",
       "0         1              0.92  \n",
       "1         1              0.76  \n",
       "2         1              0.72  \n",
       "3         1              0.80  \n",
       "4         0              0.65  "
      ]
     },
     "execution_count": 3,
     "metadata": {},
     "output_type": "execute_result"
    }
   ],
   "source": [
    "df.head()"
   ]
  },
  {
   "cell_type": "code",
   "execution_count": 4,
   "id": "f4b42235",
   "metadata": {
    "execution": {
     "iopub.execute_input": "2022-11-08T18:16:23.759384Z",
     "iopub.status.busy": "2022-11-08T18:16:23.758476Z",
     "iopub.status.idle": "2022-11-08T18:16:23.765288Z",
     "shell.execute_reply": "2022-11-08T18:16:23.764297Z"
    },
    "id": "f4b42235",
    "outputId": "104e9019-2581-4929-ba7a-e5cd4ccb2114",
    "papermill": {
     "duration": 0.018156,
     "end_time": "2022-11-08T18:16:23.767501",
     "exception": false,
     "start_time": "2022-11-08T18:16:23.749345",
     "status": "completed"
    },
    "tags": []
   },
   "outputs": [
    {
     "data": {
      "text/plain": [
       "(500, 9)"
      ]
     },
     "execution_count": 4,
     "metadata": {},
     "output_type": "execute_result"
    }
   ],
   "source": [
    "df.shape"
   ]
  },
  {
   "cell_type": "markdown",
   "id": "817fb412",
   "metadata": {
    "id": "817fb412",
    "papermill": {
     "duration": 0.009362,
     "end_time": "2022-11-08T18:16:23.784845",
     "exception": false,
     "start_time": "2022-11-08T18:16:23.775483",
     "status": "completed"
    },
    "tags": []
   },
   "source": [
    "Drop \" Serial No.\" no needed for classification"
   ]
  },
  {
   "cell_type": "code",
   "execution_count": 5,
   "id": "5377e0c6",
   "metadata": {
    "execution": {
     "iopub.execute_input": "2022-11-08T18:16:23.802813Z",
     "iopub.status.busy": "2022-11-08T18:16:23.802345Z",
     "iopub.status.idle": "2022-11-08T18:16:23.813736Z",
     "shell.execute_reply": "2022-11-08T18:16:23.812662Z"
    },
    "id": "5377e0c6",
    "papermill": {
     "duration": 0.023149,
     "end_time": "2022-11-08T18:16:23.816026",
     "exception": false,
     "start_time": "2022-11-08T18:16:23.792877",
     "status": "completed"
    },
    "tags": []
   },
   "outputs": [],
   "source": [
    "df = df.drop('Serial No.',axis=1)"
   ]
  },
  {
   "cell_type": "code",
   "execution_count": 6,
   "id": "0866e1e6",
   "metadata": {
    "execution": {
     "iopub.execute_input": "2022-11-08T18:16:23.834235Z",
     "iopub.status.busy": "2022-11-08T18:16:23.833821Z",
     "iopub.status.idle": "2022-11-08T18:16:23.840817Z",
     "shell.execute_reply": "2022-11-08T18:16:23.839742Z"
    },
    "id": "0866e1e6",
    "outputId": "e5311db3-9705-4180-86e3-3d11fd54ffb9",
    "papermill": {
     "duration": 0.019047,
     "end_time": "2022-11-08T18:16:23.84322",
     "exception": false,
     "start_time": "2022-11-08T18:16:23.824173",
     "status": "completed"
    },
    "tags": []
   },
   "outputs": [
    {
     "data": {
      "text/plain": [
       "(500, 8)"
      ]
     },
     "execution_count": 6,
     "metadata": {},
     "output_type": "execute_result"
    }
   ],
   "source": [
    "df.shape"
   ]
  },
  {
   "cell_type": "code",
   "execution_count": 7,
   "id": "1656177f",
   "metadata": {
    "execution": {
     "iopub.execute_input": "2022-11-08T18:16:23.869859Z",
     "iopub.status.busy": "2022-11-08T18:16:23.869057Z",
     "iopub.status.idle": "2022-11-08T18:16:24.023565Z",
     "shell.execute_reply": "2022-11-08T18:16:24.02221Z"
    },
    "id": "1656177f",
    "papermill": {
     "duration": 0.174525,
     "end_time": "2022-11-08T18:16:24.02642",
     "exception": false,
     "start_time": "2022-11-08T18:16:23.851895",
     "status": "completed"
    },
    "tags": []
   },
   "outputs": [],
   "source": [
    "from sklearn.preprocessing import Binarizer"
   ]
  },
  {
   "cell_type": "code",
   "execution_count": 8,
   "id": "92539341",
   "metadata": {
    "execution": {
     "iopub.execute_input": "2022-11-08T18:16:24.045335Z",
     "iopub.status.busy": "2022-11-08T18:16:24.044375Z",
     "iopub.status.idle": "2022-11-08T18:16:24.057039Z",
     "shell.execute_reply": "2022-11-08T18:16:24.056041Z"
    },
    "id": "92539341",
    "papermill": {
     "duration": 0.024284,
     "end_time": "2022-11-08T18:16:24.059111",
     "exception": false,
     "start_time": "2022-11-08T18:16:24.034827",
     "status": "completed"
    },
    "tags": []
   },
   "outputs": [],
   "source": [
    "bi = Binarizer(threshold=0.75)\n",
    "df[\"Chance of Admit \"] = bi.fit_transform(df[['Chance of Admit ']])"
   ]
  },
  {
   "cell_type": "code",
   "execution_count": 9,
   "id": "22a46e4a",
   "metadata": {
    "execution": {
     "iopub.execute_input": "2022-11-08T18:16:24.0783Z",
     "iopub.status.busy": "2022-11-08T18:16:24.077291Z",
     "iopub.status.idle": "2022-11-08T18:16:24.092331Z",
     "shell.execute_reply": "2022-11-08T18:16:24.091211Z"
    },
    "id": "22a46e4a",
    "outputId": "643c79d0-f55a-46bc-f847-9c33c6473e55",
    "papermill": {
     "duration": 0.027465,
     "end_time": "2022-11-08T18:16:24.09475",
     "exception": false,
     "start_time": "2022-11-08T18:16:24.067285",
     "status": "completed"
    },
    "tags": []
   },
   "outputs": [
    {
     "data": {
      "text/html": [
       "<div>\n",
       "<style scoped>\n",
       "    .dataframe tbody tr th:only-of-type {\n",
       "        vertical-align: middle;\n",
       "    }\n",
       "\n",
       "    .dataframe tbody tr th {\n",
       "        vertical-align: top;\n",
       "    }\n",
       "\n",
       "    .dataframe thead th {\n",
       "        text-align: right;\n",
       "    }\n",
       "</style>\n",
       "<table border=\"1\" class=\"dataframe\">\n",
       "  <thead>\n",
       "    <tr style=\"text-align: right;\">\n",
       "      <th></th>\n",
       "      <th>GRE Score</th>\n",
       "      <th>TOEFL Score</th>\n",
       "      <th>University Rating</th>\n",
       "      <th>SOP</th>\n",
       "      <th>LOR</th>\n",
       "      <th>CGPA</th>\n",
       "      <th>Research</th>\n",
       "      <th>Chance of Admit</th>\n",
       "    </tr>\n",
       "  </thead>\n",
       "  <tbody>\n",
       "    <tr>\n",
       "      <th>0</th>\n",
       "      <td>337</td>\n",
       "      <td>118</td>\n",
       "      <td>4</td>\n",
       "      <td>4.5</td>\n",
       "      <td>4.5</td>\n",
       "      <td>9.65</td>\n",
       "      <td>1</td>\n",
       "      <td>1.0</td>\n",
       "    </tr>\n",
       "    <tr>\n",
       "      <th>1</th>\n",
       "      <td>324</td>\n",
       "      <td>107</td>\n",
       "      <td>4</td>\n",
       "      <td>4.0</td>\n",
       "      <td>4.5</td>\n",
       "      <td>8.87</td>\n",
       "      <td>1</td>\n",
       "      <td>1.0</td>\n",
       "    </tr>\n",
       "    <tr>\n",
       "      <th>2</th>\n",
       "      <td>316</td>\n",
       "      <td>104</td>\n",
       "      <td>3</td>\n",
       "      <td>3.0</td>\n",
       "      <td>3.5</td>\n",
       "      <td>8.00</td>\n",
       "      <td>1</td>\n",
       "      <td>0.0</td>\n",
       "    </tr>\n",
       "    <tr>\n",
       "      <th>3</th>\n",
       "      <td>322</td>\n",
       "      <td>110</td>\n",
       "      <td>3</td>\n",
       "      <td>3.5</td>\n",
       "      <td>2.5</td>\n",
       "      <td>8.67</td>\n",
       "      <td>1</td>\n",
       "      <td>1.0</td>\n",
       "    </tr>\n",
       "    <tr>\n",
       "      <th>4</th>\n",
       "      <td>314</td>\n",
       "      <td>103</td>\n",
       "      <td>2</td>\n",
       "      <td>2.0</td>\n",
       "      <td>3.0</td>\n",
       "      <td>8.21</td>\n",
       "      <td>0</td>\n",
       "      <td>0.0</td>\n",
       "    </tr>\n",
       "  </tbody>\n",
       "</table>\n",
       "</div>"
      ],
      "text/plain": [
       "   GRE Score  TOEFL Score  University Rating  SOP  LOR   CGPA  Research  \\\n",
       "0        337          118                  4  4.5   4.5  9.65         1   \n",
       "1        324          107                  4  4.0   4.5  8.87         1   \n",
       "2        316          104                  3  3.0   3.5  8.00         1   \n",
       "3        322          110                  3  3.5   2.5  8.67         1   \n",
       "4        314          103                  2  2.0   3.0  8.21         0   \n",
       "\n",
       "   Chance of Admit   \n",
       "0               1.0  \n",
       "1               1.0  \n",
       "2               0.0  \n",
       "3               1.0  \n",
       "4               0.0  "
      ]
     },
     "execution_count": 9,
     "metadata": {},
     "output_type": "execute_result"
    }
   ],
   "source": [
    "df.head()"
   ]
  },
  {
   "cell_type": "code",
   "execution_count": 10,
   "id": "5369f247",
   "metadata": {
    "execution": {
     "iopub.execute_input": "2022-11-08T18:16:24.113484Z",
     "iopub.status.busy": "2022-11-08T18:16:24.113059Z",
     "iopub.status.idle": "2022-11-08T18:16:24.120571Z",
     "shell.execute_reply": "2022-11-08T18:16:24.119412Z"
    },
    "id": "5369f247",
    "outputId": "4f369f7b-e646-4e00-951b-b3fee45e94b7",
    "papermill": {
     "duration": 0.019571,
     "end_time": "2022-11-08T18:16:24.122857",
     "exception": false,
     "start_time": "2022-11-08T18:16:24.103286",
     "status": "completed"
    },
    "tags": []
   },
   "outputs": [
    {
     "data": {
      "text/plain": [
       "Index(['GRE Score', 'TOEFL Score', 'University Rating', 'SOP', 'LOR ', 'CGPA',\n",
       "       'Research', 'Chance of Admit '],\n",
       "      dtype='object')"
      ]
     },
     "execution_count": 10,
     "metadata": {},
     "output_type": "execute_result"
    }
   ],
   "source": [
    "df.columns"
   ]
  },
  {
   "cell_type": "code",
   "execution_count": 11,
   "id": "214fc1b3",
   "metadata": {
    "execution": {
     "iopub.execute_input": "2022-11-08T18:16:24.142484Z",
     "iopub.status.busy": "2022-11-08T18:16:24.142026Z",
     "iopub.status.idle": "2022-11-08T18:16:24.14965Z",
     "shell.execute_reply": "2022-11-08T18:16:24.148472Z"
    },
    "id": "214fc1b3",
    "papermill": {
     "duration": 0.020223,
     "end_time": "2022-11-08T18:16:24.151998",
     "exception": false,
     "start_time": "2022-11-08T18:16:24.131775",
     "status": "completed"
    },
    "tags": []
   },
   "outputs": [],
   "source": [
    "x = df[['GRE Score', 'TOEFL Score', 'University Rating', 'SOP', 'LOR ', 'CGPA',\n",
    "       'Research']]\n",
    "\n",
    "y = df['Chance of Admit ']\n",
    "y = y.astype('int') # y float is converted into y"
   ]
  },
  {
   "cell_type": "code",
   "execution_count": 12,
   "id": "e5281a13",
   "metadata": {
    "execution": {
     "iopub.execute_input": "2022-11-08T18:16:24.171759Z",
     "iopub.status.busy": "2022-11-08T18:16:24.171347Z",
     "iopub.status.idle": "2022-11-08T18:16:24.378142Z",
     "shell.execute_reply": "2022-11-08T18:16:24.377109Z"
    },
    "id": "e5281a13",
    "outputId": "4d0066e6-0658-45d8-d994-c739c6f0a7d3",
    "papermill": {
     "duration": 0.21999,
     "end_time": "2022-11-08T18:16:24.381033",
     "exception": false,
     "start_time": "2022-11-08T18:16:24.161043",
     "status": "completed"
    },
    "scrolled": false,
    "tags": []
   },
   "outputs": [
    {
     "data": {
      "text/plain": [
       "<Axes: xlabel='Chance of Admit ', ylabel='count'>"
      ]
     },
     "execution_count": 12,
     "metadata": {},
     "output_type": "execute_result"
    },
    {
     "data": {
      "image/png": "[encoded data removed]",
      "text/plain": [
       "<Figure size 640x480 with 1 Axes>"
      ]
     },
     "metadata": {},
     "output_type": "display_data"
    }
   ],
   "source": [
    "sns.countplot(x=y)"
   ]
  },
  {
   "cell_type": "code",
   "execution_count": 13,
   "id": "95cbc414",
   "metadata": {
    "execution": {
     "iopub.execute_input": "2022-11-08T18:16:24.402186Z",
     "iopub.status.busy": "2022-11-08T18:16:24.401758Z",
     "iopub.status.idle": "2022-11-08T18:16:24.412885Z",
     "shell.execute_reply": "2022-11-08T18:16:24.411505Z"
    },
    "id": "95cbc414",
    "outputId": "9ba436df-1953-4c3b-abe5-12de42e6d010",
    "papermill": {
     "duration": 0.024304,
     "end_time": "2022-11-08T18:16:24.415078",
     "exception": false,
     "start_time": "2022-11-08T18:16:24.390774",
     "status": "completed"
    },
    "tags": []
   },
   "outputs": [
    {
     "data": {
      "text/plain": [
       "Chance of Admit \n",
       "0    290\n",
       "1    210\n",
       "Name: count, dtype: int64"
      ]
     },
     "execution_count": 13,
     "metadata": {},
     "output_type": "execute_result"
    }
   ],
   "source": [
    "y.value_counts()"
   ]
  },
  {
   "cell_type": "code",
   "execution_count": 14,
   "id": "2b617d5f",
   "metadata": {
    "execution": {
     "iopub.execute_input": "2022-11-08T18:16:24.435459Z",
     "iopub.status.busy": "2022-11-08T18:16:24.435056Z",
     "iopub.status.idle": "2022-11-08T18:16:24.498254Z",
     "shell.execute_reply": "2022-11-08T18:16:24.496984Z"
    },
    "id": "2b617d5f",
    "papermill": {
     "duration": 0.076686,
     "end_time": "2022-11-08T18:16:24.501072",
     "exception": false,
     "start_time": "2022-11-08T18:16:24.424386",
     "status": "completed"
    },
    "tags": []
   },
   "outputs": [],
   "source": [
    "from sklearn.model_selection import train_test_split"
   ]
  },
  {
   "cell_type": "code",
   "execution_count": 15,
   "id": "70db6a44",
   "metadata": {
    "execution": {
     "iopub.execute_input": "2022-11-08T18:16:24.522239Z",
     "iopub.status.busy": "2022-11-08T18:16:24.521769Z",
     "iopub.status.idle": "2022-11-08T18:16:24.530201Z",
     "shell.execute_reply": "2022-11-08T18:16:24.529061Z"
    },
    "id": "70db6a44",
    "papermill": {
     "duration": 0.022011,
     "end_time": "2022-11-08T18:16:24.532883",
     "exception": false,
     "start_time": "2022-11-08T18:16:24.510872",
     "status": "completed"
    },
    "tags": []
   },
   "outputs": [],
   "source": [
    "x_train, x_test, y_train, y_test = train_test_split(x,y,test_size=0.25,random_state=0)"
   ]
  },
  {
   "cell_type": "code",
   "execution_count": 16,
   "id": "407f2fd0",
   "metadata": {
    "execution": {
     "iopub.execute_input": "2022-11-08T18:16:24.554532Z",
     "iopub.status.busy": "2022-11-08T18:16:24.553806Z",
     "iopub.status.idle": "2022-11-08T18:16:24.560754Z",
     "shell.execute_reply": "2022-11-08T18:16:24.55938Z"
    },
    "id": "407f2fd0",
    "outputId": "b46d0222-a271-445b-973a-95b0e81eb370",
    "papermill": {
     "duration": 0.021357,
     "end_time": "2022-11-08T18:16:24.563606",
     "exception": false,
     "start_time": "2022-11-08T18:16:24.542249",
     "status": "completed"
    },
    "tags": []
   },
   "outputs": [
    {
     "name": "stdout",
     "output_type": "stream",
     "text": [
      "Size of splitted data\n",
      "x_train (375, 7)\n",
      "y_train (375,)\n",
      "x_test (125, 7)\n",
      "y_test (125,)\n"
     ]
    }
   ],
   "source": [
    "print(f\"Size of splitted data\")\n",
    "print(f\"x_train {x_train.shape}\")\n",
    "print(f\"y_train {y_train.shape}\")\n",
    "print(f\"x_test {x_test.shape}\")\n",
    "print(f\"y_test {y_test.shape}\")"
   ]
  },
  {
   "cell_type": "code",
   "execution_count": 17,
   "id": "8ad1b3e0",
   "metadata": {
    "execution": {
     "iopub.execute_input": "2022-11-08T18:16:24.583401Z",
     "iopub.status.busy": "2022-11-08T18:16:24.58302Z",
     "iopub.status.idle": "2022-11-08T18:16:24.803406Z",
     "shell.execute_reply": "2022-11-08T18:16:24.802062Z"
    },
    "id": "8ad1b3e0",
    "papermill": {
     "duration": 0.233533,
     "end_time": "2022-11-08T18:16:24.80618",
     "exception": false,
     "start_time": "2022-11-08T18:16:24.572647",
     "status": "completed"
    },
    "tags": []
   },
   "outputs": [],
   "source": [
    "from sklearn.tree import DecisionTreeRegressor\n",
    "from sklearn.ensemble import RandomForestRegressor\n",
    "from sklearn.linear_model import LogisticRegression"
   ]
  },
  {
   "cell_type": "code",
   "execution_count": 18,
   "id": "e8dfa564",
   "metadata": {
    "execution": {
     "iopub.execute_input": "2022-11-08T18:16:24.827636Z",
     "iopub.status.busy": "2022-11-08T18:16:24.826543Z",
     "iopub.status.idle": "2022-11-08T18:16:24.832758Z",
     "shell.execute_reply": "2022-11-08T18:16:24.831753Z"
    },
    "id": "e8dfa564",
    "papermill": {
     "duration": 0.018971,
     "end_time": "2022-11-08T18:16:24.834875",
     "exception": false,
     "start_time": "2022-11-08T18:16:24.815904",
     "status": "completed"
    },
    "tags": []
   },
   "outputs": [],
   "source": [
    "model_dt = DecisionTreeRegressor(random_state=0)\n",
    "model_rf = RandomForestRegressor(random_state=0)\n",
    "model_lr = LogisticRegression(random_state=1,solver='lbfgs',max_iter=1000)"
   ]
  },
  {
   "cell_type": "code",
   "execution_count": 19,
   "id": "5ed36d43",
   "metadata": {
    "colab": {
     "base_uri": "https://localhost:8080/",
     "height": 176
    },
    "execution": {
     "iopub.execute_input": "2022-11-08T18:16:24.8549Z",
     "iopub.status.busy": "2022-11-08T18:16:24.854449Z",
     "iopub.status.idle": "2022-11-08T18:16:24.869662Z",
     "shell.execute_reply": "2022-11-08T18:16:24.868516Z"
    },
    "id": "5ed36d43",
    "outputId": "54ec38eb-83fb-4bb1-ecd7-0688cbb8a92d",
    "papermill": {
     "duration": 0.028185,
     "end_time": "2022-11-08T18:16:24.872176",
     "exception": false,
     "start_time": "2022-11-08T18:16:24.843991",
     "status": "completed"
    },
    "tags": []
   },
   "outputs": [
    {
     "data": {
      "text/html": [
       "<style>#sk-container-id-1 {color: black;}#sk-container-id-1 pre{padding: 0;}#sk-container-id-1 div.sk-toggleable {background-color: white;}#sk-container-id-1 label.sk-toggleable__label {cursor: pointer;display: block;width: 100%;margin-bottom: 0;padding: 0.3em;box-sizing: border-box;text-align: center;}#sk-container-id-1 label.sk-toggleable__label-arrow:before {content: \"▸\";float: left;margin-right: 0.25em;color: #696969;}#sk-container-id-1 label.sk-toggleable__label-arrow:hover:before {color: black;}#sk-container-id-1 div.sk-estimator:hover label.sk-toggleable__label-arrow:before {color: black;}#sk-container-id-1 div.sk-toggleable__content {max-height: 0;max-width: 0;overflow: hidden;text-align: left;background-color: #f0f8ff;}#sk-container-id-1 div.sk-toggleable__content pre {margin: 0.2em;color: black;border-radius: 0.25em;background-color: #f0f8ff;}#sk-container-id-1 input.sk-toggleable__control:checked~div.sk-toggleable__content {max-height: 200px;max-width: 100%;overflow: auto;}#sk-container-id-1 input.sk-toggleable__control:checked~label.sk-toggleable__label-arrow:before {content: \"▾\";}#sk-container-id-1 div.sk-estimator input.sk-toggleable__control:checked~label.sk-toggleable__label {background-color: #d4ebff;}#sk-container-id-1 div.sk-label input.sk-toggleable__control:checked~label.sk-toggleable__label {background-color: #d4ebff;}#sk-container-id-1 input.sk-hidden--visually {border: 0;clip: rect(1px 1px 1px 1px);clip: rect(1px, 1px, 1px, 1px);height: 1px;margin: -1px;overflow: hidden;padding: 0;position: absolute;width: 1px;}#sk-container-id-1 div.sk-estimator {font-family: monospace;background-color: #f0f8ff;border: 1px dotted black;border-radius: 0.25em;box-sizing: border-box;margin-bottom: 0.5em;}#sk-container-id-1 div.sk-estimator:hover {background-color: #d4ebff;}#sk-container-id-1 div.sk-parallel-item::after {content: \"\";width: 100%;border-bottom: 1px solid gray;flex-grow: 1;}#sk-container-id-1 div.sk-label:hover label.sk-toggleable__label {background-color: #d4ebff;}#sk-container-id-1 div.sk-serial::before {content: \"\";position: absolute;border-left: 1px solid gray;box-sizing: border-box;top: 0;bottom: 0;left: 50%;z-index: 0;}#sk-container-id-1 div.sk-serial {display: flex;flex-direction: column;align-items: center;background-color: white;padding-right: 0.2em;padding-left: 0.2em;position: relative;}#sk-container-id-1 div.sk-item {position: relative;z-index: 1;}#sk-container-id-1 div.sk-parallel {display: flex;align-items: stretch;justify-content: center;background-color: white;position: relative;}#sk-container-id-1 div.sk-item::before, #sk-container-id-1 div.sk-parallel-item::before {content: \"\";position: absolute;border-left: 1px solid gray;box-sizing: border-box;top: 0;bottom: 0;left: 50%;z-index: -1;}#sk-container-id-1 div.sk-parallel-item {display: flex;flex-direction: column;z-index: 1;position: relative;background-color: white;}#sk-container-id-1 div.sk-parallel-item:first-child::after {align-self: flex-end;width: 50%;}#sk-container-id-1 div.sk-parallel-item:last-child::after {align-self: flex-start;width: 50%;}#sk-container-id-1 div.sk-parallel-item:only-child::after {width: 0;}#sk-container-id-1 div.sk-dashed-wrapped {border: 1px dashed gray;margin: 0 0.4em 0.5em 0.4em;box-sizing: border-box;padding-bottom: 0.4em;background-color: white;}#sk-container-id-1 div.sk-label label {font-family: monospace;font-weight: bold;display: inline-block;line-height: 1.2em;}#sk-container-id-1 div.sk-label-container {text-align: center;}#sk-container-id-1 div.sk-container {/* jupyter's `normalize.less` sets `[hidden] { display: none; }` but bootstrap.min.css set `[hidden] { display: none !important; }` so we also need the `!important` here to be able to override the default hidden behavior on the sphinx rendered scikit-learn.org. See: https://github.com/scikit-learn/scikit-learn/issues/21755 */display: inline-block !important;position: relative;}#sk-container-id-1 div.sk-text-repr-fallback {display: none;}</style><div id=\"sk-container-id-1\" class=\"sk-top-container\"><div class=\"sk-text-repr-fallback\"><pre>DecisionTreeRegressor(random_state=0)</pre><b>In a Jupyter environment, please rerun this cell to show the HTML representation or trust the notebook. <br />On GitHub, the HTML representation is unable to render, please try loading this page with nbviewer.org.</b></div><div class=\"sk-container\" hidden><div class=\"sk-item\"><div class=\"sk-estimator sk-toggleable\"><input class=\"sk-toggleable__control sk-hidden--visually\" id=\"sk-estimator-id-1\" type=\"checkbox\" checked><label for=\"sk-estimator-id-1\" class=\"sk-toggleable__label sk-toggleable__label-arrow\">DecisionTreeRegressor</label><div class=\"sk-toggleable__content\"><pre>DecisionTreeRegressor(random_state=0)</pre></div></div></div></div></div>"
      ],
      "text/plain": [
       "DecisionTreeRegressor(random_state=0)"
      ]
     },
     "execution_count": 19,
     "metadata": {},
     "output_type": "execute_result"
    }
   ],
   "source": [
    "model_dt.fit(x_train,y_train)"
   ]
  },
  {
   "cell_type": "code",
   "execution_count": 20,
   "id": "7d3cc648",
   "metadata": {
    "execution": {
     "iopub.execute_input": "2022-11-08T18:16:24.893554Z",
     "iopub.status.busy": "2022-11-08T18:16:24.893064Z",
     "iopub.status.idle": "2022-11-08T18:16:25.064267Z",
     "shell.execute_reply": "2022-11-08T18:16:25.063039Z"
    },
    "id": "7d3cc648",
    "outputId": "fc660e13-a451-4da6-9306-22acd7ee8b95",
    "papermill": {
     "duration": 0.18488,
     "end_time": "2022-11-08T18:16:25.06687",
     "exception": false,
     "start_time": "2022-11-08T18:16:24.88199",
     "status": "completed"
    },
    "tags": []
   },
   "outputs": [
    {
     "data": {
      "text/html": [
       "<style>#sk-container-id-2 {color: black;}#sk-container-id-2 pre{padding: 0;}#sk-container-id-2 div.sk-toggleable {background-color: white;}#sk-container-id-2 label.sk-toggleable__label {cursor: pointer;display: block;width: 100%;margin-bottom: 0;padding: 0.3em;box-sizing: border-box;text-align: center;}#sk-container-id-2 label.sk-toggleable__label-arrow:before {content: \"▸\";float: left;margin-right: 0.25em;color: #696969;}#sk-container-id-2 label.sk-toggleable__label-arrow:hover:before {color: black;}#sk-container-id-2 div.sk-estimator:hover label.sk-toggleable__label-arrow:before {color: black;}#sk-container-id-2 div.sk-toggleable__content {max-height: 0;max-width: 0;overflow: hidden;text-align: left;background-color: #f0f8ff;}#sk-container-id-2 div.sk-toggleable__content pre {margin: 0.2em;color: black;border-radius: 0.25em;background-color: #f0f8ff;}#sk-container-id-2 input.sk-toggleable__control:checked~div.sk-toggleable__content {max-height: 200px;max-width: 100%;overflow: auto;}#sk-container-id-2 input.sk-toggleable__control:checked~label.sk-toggleable__label-arrow:before {content: \"▾\";}#sk-container-id-2 div.sk-estimator input.sk-toggleable__control:checked~label.sk-toggleable__label {background-color: #d4ebff;}#sk-container-id-2 div.sk-label input.sk-toggleable__control:checked~label.sk-toggleable__label {background-color: #d4ebff;}#sk-container-id-2 input.sk-hidden--visually {border: 0;clip: rect(1px 1px 1px 1px);clip: rect(1px, 1px, 1px, 1px);height: 1px;margin: -1px;overflow: hidden;padding: 0;position: absolute;width: 1px;}#sk-container-id-2 div.sk-estimator {font-family: monospace;background-color: #f0f8ff;border: 1px dotted black;border-radius: 0.25em;box-sizing: border-box;margin-bottom: 0.5em;}#sk-container-id-2 div.sk-estimator:hover {background-color: #d4ebff;}#sk-container-id-2 div.sk-parallel-item::after {content: \"\";width: 100%;border-bottom: 1px solid gray;flex-grow: 1;}#sk-container-id-2 div.sk-label:hover label.sk-toggleable__label {background-color: #d4ebff;}#sk-container-id-2 div.sk-serial::before {content: \"\";position: absolute;border-left: 1px solid gray;box-sizing: border-box;top: 0;bottom: 0;left: 50%;z-index: 0;}#sk-container-id-2 div.sk-serial {display: flex;flex-direction: column;align-items: center;background-color: white;padding-right: 0.2em;padding-left: 0.2em;position: relative;}#sk-container-id-2 div.sk-item {position: relative;z-index: 1;}#sk-container-id-2 div.sk-parallel {display: flex;align-items: stretch;justify-content: center;background-color: white;position: relative;}#sk-container-id-2 div.sk-item::before, #sk-container-id-2 div.sk-parallel-item::before {content: \"\";position: absolute;border-left: 1px solid gray;box-sizing: border-box;top: 0;bottom: 0;left: 50%;z-index: -1;}#sk-container-id-2 div.sk-parallel-item {display: flex;flex-direction: column;z-index: 1;position: relative;background-color: white;}#sk-container-id-2 div.sk-parallel-item:first-child::after {align-self: flex-end;width: 50%;}#sk-container-id-2 div.sk-parallel-item:last-child::after {align-self: flex-start;width: 50%;}#sk-container-id-2 div.sk-parallel-item:only-child::after {width: 0;}#sk-container-id-2 div.sk-dashed-wrapped {border: 1px dashed gray;margin: 0 0.4em 0.5em 0.4em;box-sizing: border-box;padding-bottom: 0.4em;background-color: white;}#sk-container-id-2 div.sk-label label {font-family: monospace;font-weight: bold;display: inline-block;line-height: 1.2em;}#sk-container-id-2 div.sk-label-container {text-align: center;}#sk-container-id-2 div.sk-container {/* jupyter's `normalize.less` sets `[hidden] { display: none; }` but bootstrap.min.css set `[hidden] { display: none !important; }` so we also need the `!important` here to be able to override the default hidden behavior on the sphinx rendered scikit-learn.org. See: https://github.com/scikit-learn/scikit-learn/issues/21755 */display: inline-block !important;position: relative;}#sk-container-id-2 div.sk-text-repr-fallback {display: none;}</style><div id=\"sk-container-id-2\" class=\"sk-top-container\"><div class=\"sk-text-repr-fallback\"><pre>RandomForestRegressor(random_state=0)</pre><b>In a Jupyter environment, please rerun this cell to show the HTML representation or trust the notebook. <br />On GitHub, the HTML representation is unable to render, please try loading this page with nbviewer.org.</b></div><div class=\"sk-container\" hidden><div class=\"sk-item\"><div class=\"sk-estimator sk-toggleable\"><input class=\"sk-toggleable__control sk-hidden--visually\" id=\"sk-estimator-id-2\" type=\"checkbox\" checked><label for=\"sk-estimator-id-2\" class=\"sk-toggleable__label sk-toggleable__label-arrow\">RandomForestRegressor</label><div class=\"sk-toggleable__content\"><pre>RandomForestRegressor(random_state=0)</pre></div></div></div></div></div>"
      ],
      "text/plain": [
       "RandomForestRegressor(random_state=0)"
      ]
     },
     "execution_count": 20,
     "metadata": {},
     "output_type": "execute_result"
    }
   ],
   "source": [
    "model_rf.fit(x_train,y_train)"
   ]
  },
  {
   "cell_type": "code",
   "execution_count": 21,
   "id": "2aafca55",
   "metadata": {
    "execution": {
     "iopub.execute_input": "2022-11-08T18:16:25.089113Z",
     "iopub.status.busy": "2022-11-08T18:16:25.088729Z",
     "iopub.status.idle": "2022-11-08T18:16:25.158433Z",
     "shell.execute_reply": "2022-11-08T18:16:25.157309Z"
    },
    "id": "2aafca55",
    "outputId": "80cfc47c-1a14-4fed-c219-4813028e010c",
    "papermill": {
     "duration": 0.083217,
     "end_time": "2022-11-08T18:16:25.160884",
     "exception": false,
     "start_time": "2022-11-08T18:16:25.077667",
     "status": "completed"
    },
    "tags": []
   },
   "outputs": [
    {
     "data": {
      "text/html": [
       "<style>#sk-container-id-3 {color: black;}#sk-container-id-3 pre{padding: 0;}#sk-container-id-3 div.sk-toggleable {background-color: white;}#sk-container-id-3 label.sk-toggleable__label {cursor: pointer;display: block;width: 100%;margin-bottom: 0;padding: 0.3em;box-sizing: border-box;text-align: center;}#sk-container-id-3 label.sk-toggleable__label-arrow:before {content: \"▸\";float: left;margin-right: 0.25em;color: #696969;}#sk-container-id-3 label.sk-toggleable__label-arrow:hover:before {color: black;}#sk-container-id-3 div.sk-estimator:hover label.sk-toggleable__label-arrow:before {color: black;}#sk-container-id-3 div.sk-toggleable__content {max-height: 0;max-width: 0;overflow: hidden;text-align: left;background-color: #f0f8ff;}#sk-container-id-3 div.sk-toggleable__content pre {margin: 0.2em;color: black;border-radius: 0.25em;background-color: #f0f8ff;}#sk-container-id-3 input.sk-toggleable__control:checked~div.sk-toggleable__content {max-height: 200px;max-width: 100%;overflow: auto;}#sk-container-id-3 input.sk-toggleable__control:checked~label.sk-toggleable__label-arrow:before {content: \"▾\";}#sk-container-id-3 div.sk-estimator input.sk-toggleable__control:checked~label.sk-toggleable__label {background-color: #d4ebff;}#sk-container-id-3 div.sk-label input.sk-toggleable__control:checked~label.sk-toggleable__label {background-color: #d4ebff;}#sk-container-id-3 input.sk-hidden--visually {border: 0;clip: rect(1px 1px 1px 1px);clip: rect(1px, 1px, 1px, 1px);height: 1px;margin: -1px;overflow: hidden;padding: 0;position: absolute;width: 1px;}#sk-container-id-3 div.sk-estimator {font-family: monospace;background-color: #f0f8ff;border: 1px dotted black;border-radius: 0.25em;box-sizing: border-box;margin-bottom: 0.5em;}#sk-container-id-3 div.sk-estimator:hover {background-color: #d4ebff;}#sk-container-id-3 div.sk-parallel-item::after {content: \"\";width: 100%;border-bottom: 1px solid gray;flex-grow: 1;}#sk-container-id-3 div.sk-label:hover label.sk-toggleable__label {background-color: #d4ebff;}#sk-container-id-3 div.sk-serial::before {content: \"\";position: absolute;border-left: 1px solid gray;box-sizing: border-box;top: 0;bottom: 0;left: 50%;z-index: 0;}#sk-container-id-3 div.sk-serial {display: flex;flex-direction: column;align-items: center;background-color: white;padding-right: 0.2em;padding-left: 0.2em;position: relative;}#sk-container-id-3 div.sk-item {position: relative;z-index: 1;}#sk-container-id-3 div.sk-parallel {display: flex;align-items: stretch;justify-content: center;background-color: white;position: relative;}#sk-container-id-3 div.sk-item::before, #sk-container-id-3 div.sk-parallel-item::before {content: \"\";position: absolute;border-left: 1px solid gray;box-sizing: border-box;top: 0;bottom: 0;left: 50%;z-index: -1;}#sk-container-id-3 div.sk-parallel-item {display: flex;flex-direction: column;z-index: 1;position: relative;background-color: white;}#sk-container-id-3 div.sk-parallel-item:first-child::after {align-self: flex-end;width: 50%;}#sk-container-id-3 div.sk-parallel-item:last-child::after {align-self: flex-start;width: 50%;}#sk-container-id-3 div.sk-parallel-item:only-child::after {width: 0;}#sk-container-id-3 div.sk-dashed-wrapped {border: 1px dashed gray;margin: 0 0.4em 0.5em 0.4em;box-sizing: border-box;padding-bottom: 0.4em;background-color: white;}#sk-container-id-3 div.sk-label label {font-family: monospace;font-weight: bold;display: inline-block;line-height: 1.2em;}#sk-container-id-3 div.sk-label-container {text-align: center;}#sk-container-id-3 div.sk-container {/* jupyter's `normalize.less` sets `[hidden] { display: none; }` but bootstrap.min.css set `[hidden] { display: none !important; }` so we also need the `!important` here to be able to override the default hidden behavior on the sphinx rendered scikit-learn.org. See: https://github.com/scikit-learn/scikit-learn/issues/21755 */display: inline-block !important;position: relative;}#sk-container-id-3 div.sk-text-repr-fallback {display: none;}</style><div id=\"sk-container-id-3\" class=\"sk-top-container\"><div class=\"sk-text-repr-fallback\"><pre>LogisticRegression(max_iter=1000, random_state=1)</pre><b>In a Jupyter environment, please rerun this cell to show the HTML representation or trust the notebook. <br />On GitHub, the HTML representation is unable to render, please try loading this page with nbviewer.org.</b></div><div class=\"sk-container\" hidden><div class=\"sk-item\"><div class=\"sk-estimator sk-toggleable\"><input class=\"sk-toggleable__control sk-hidden--visually\" id=\"sk-estimator-id-3\" type=\"checkbox\" checked><label for=\"sk-estimator-id-3\" class=\"sk-toggleable__label sk-toggleable__label-arrow\">LogisticRegression</label><div class=\"sk-toggleable__content\"><pre>LogisticRegression(max_iter=1000, random_state=1)</pre></div></div></div></div></div>"
      ],
      "text/plain": [
       "LogisticRegression(max_iter=1000, random_state=1)"
      ]
     },
     "execution_count": 21,
     "metadata": {},
     "output_type": "execute_result"
    }
   ],
   "source": [
    "model_lr.fit(x_train,y_train)"
   ]
  },
  {
   "cell_type": "code",
   "execution_count": 22,
   "id": "d0b28978",
   "metadata": {
    "execution": {
     "iopub.execute_input": "2022-11-08T18:16:25.182452Z",
     "iopub.status.busy": "2022-11-08T18:16:25.181332Z",
     "iopub.status.idle": "2022-11-08T18:16:25.203769Z",
     "shell.execute_reply": "2022-11-08T18:16:25.202732Z"
    },
    "id": "d0b28978",
    "papermill": {
     "duration": 0.035999,
     "end_time": "2022-11-08T18:16:25.206487",
     "exception": false,
     "start_time": "2022-11-08T18:16:25.170488",
     "status": "completed"
    },
    "tags": []
   },
   "outputs": [],
   "source": [
    "y_pred_dt = model_dt.predict(x_test) #int\n",
    "y_pred_rf = model_rf.predict(x_test) #float\n",
    "y_pred_lr = model_lr.predict(x_test) #"
   ]
  },
  {
   "cell_type": "code",
   "execution_count": 23,
   "id": "67ddf37e",
   "metadata": {
    "execution": {
     "iopub.execute_input": "2022-11-08T18:16:25.22841Z",
     "iopub.status.busy": "2022-11-08T18:16:25.227385Z",
     "iopub.status.idle": "2022-11-08T18:16:25.233029Z",
     "shell.execute_reply": "2022-11-08T18:16:25.231867Z"
    },
    "id": "67ddf37e",
    "papermill": {
     "duration": 0.019225,
     "end_time": "2022-11-08T18:16:25.235638",
     "exception": false,
     "start_time": "2022-11-08T18:16:25.216413",
     "status": "completed"
    },
    "tags": []
   },
   "outputs": [],
   "source": [
    "y_pred_rf = y_pred_rf.reshape(1,-1)"
   ]
  },
  {
   "cell_type": "code",
   "execution_count": 24,
   "id": "b009769c",
   "metadata": {
    "execution": {
     "iopub.execute_input": "2022-11-08T18:16:25.258249Z",
     "iopub.status.busy": "2022-11-08T18:16:25.25733Z",
     "iopub.status.idle": "2022-11-08T18:16:25.263594Z",
     "shell.execute_reply": "2022-11-08T18:16:25.262461Z"
    },
    "id": "b009769c",
    "papermill": {
     "duration": 0.020051,
     "end_time": "2022-11-08T18:16:25.266035",
     "exception": false,
     "start_time": "2022-11-08T18:16:25.245984",
     "status": "completed"
    },
    "tags": []
   },
   "outputs": [],
   "source": [
    "y_pred_rf = bi.fit_transform(y_pred_rf)\n",
    "y_pred_rf = y_pred_rf.reshape(125)"
   ]
  },
  {
   "cell_type": "code",
   "execution_count": 25,
   "id": "eeeff918",
   "metadata": {
    "execution": {
     "iopub.execute_input": "2022-11-08T18:16:25.288063Z",
     "iopub.status.busy": "2022-11-08T18:16:25.287626Z",
     "iopub.status.idle": "2022-11-08T18:16:25.293167Z",
     "shell.execute_reply": "2022-11-08T18:16:25.291853Z"
    },
    "id": "eeeff918",
    "papermill": {
     "duration": 0.019545,
     "end_time": "2022-11-08T18:16:25.295669",
     "exception": false,
     "start_time": "2022-11-08T18:16:25.276124",
     "status": "completed"
    },
    "tags": []
   },
   "outputs": [],
   "source": [
    "from sklearn.metrics import ConfusionMatrixDisplay, accuracy_score\n",
    "from sklearn.metrics import classification_report"
   ]
  },
  {
   "cell_type": "code",
   "execution_count": 26,
   "id": "9a840d20",
   "metadata": {
    "execution": {
     "iopub.execute_input": "2022-11-08T18:16:25.337507Z",
     "iopub.status.busy": "2022-11-08T18:16:25.336553Z",
     "iopub.status.idle": "2022-11-08T18:16:25.523633Z",
     "shell.execute_reply": "2022-11-08T18:16:25.522613Z"
    },
    "id": "9a840d20",
    "outputId": "4d382615-7f94-43d5-d0cc-6671ab4c1d33",
    "papermill": {
     "duration": 0.200694,
     "end_time": "2022-11-08T18:16:25.526073",
     "exception": false,
     "start_time": "2022-11-08T18:16:25.325379",
     "status": "completed"
    },
    "tags": []
   },
   "outputs": [
    {
     "data": {
      "image/png": "[encoded data removed]",
      "text/plain": [
       "<Figure size 640x480 with 2 Axes>"
      ]
     },
     "metadata": {},
     "output_type": "display_data"
    },
    {
     "name": "stdout",
     "output_type": "stream",
     "text": [
      " Accuracy is 0.92\n",
      "              precision    recall  f1-score   support\n",
      "\n",
      "           0       0.96      0.91      0.94        81\n",
      "           1       0.85      0.93      0.89        44\n",
      "\n",
      "    accuracy                           0.92       125\n",
      "   macro avg       0.91      0.92      0.91       125\n",
      "weighted avg       0.92      0.92      0.92       125\n",
      "\n"
     ]
    }
   ],
   "source": [
    "ConfusionMatrixDisplay.from_predictions(y_test,y_pred_dt)\n",
    "plt.title('Decision Tree')\n",
    "plt.show()\n",
    "print(f\" Accuracy is {accuracy_score(y_test,y_pred_dt)}\")\n",
    "print(classification_report(y_test,y_pred_dt))"
   ]
  },
  {
   "cell_type": "code",
   "execution_count": 27,
   "id": "7e8a1169",
   "metadata": {
    "execution": {
     "iopub.execute_input": "2022-11-08T18:16:25.580084Z",
     "iopub.status.busy": "2022-11-08T18:16:25.578913Z",
     "iopub.status.idle": "2022-11-08T18:16:25.782486Z",
     "shell.execute_reply": "2022-11-08T18:16:25.780557Z"
    },
    "id": "7e8a1169",
    "outputId": "5bb36de0-42a9-4cb6-8fed-4ed4eb7a66ee",
    "papermill": {
     "duration": 0.223638,
     "end_time": "2022-11-08T18:16:25.786124",
     "exception": false,
     "start_time": "2022-11-08T18:16:25.562486",
     "status": "completed"
    },
    "tags": []
   },
   "outputs": [
    {
     "data": {
      "image/png": "[encoded data removed]",
      "text/plain": [
       "<Figure size 640x480 with 2 Axes>"
      ]
     },
     "metadata": {},
     "output_type": "display_data"
    },
    {
     "name": "stdout",
     "output_type": "stream",
     "text": [
      " Accuracy is 0.936\n",
      "              precision    recall  f1-score   support\n",
      "\n",
      "           0       0.96      0.94      0.95        81\n",
      "           1       0.89      0.93      0.91        44\n",
      "\n",
      "    accuracy                           0.94       125\n",
      "   macro avg       0.93      0.94      0.93       125\n",
      "weighted avg       0.94      0.94      0.94       125\n",
      "\n"
     ]
    }
   ],
   "source": [
    "ConfusionMatrixDisplay.from_predictions(y_test,y_pred_lr)\n",
    "plt.title('Logistic Regression')\n",
    "plt.show()\n",
    "print(f\" Accuracy is {accuracy_score(y_test,y_pred_lr)}\")\n",
    "print(classification_report(y_test,y_pred_lr))"
   ]
  },
  {
   "cell_type": "code",
   "execution_count": 28,
   "id": "c6fb95a4",
   "metadata": {
    "execution": {
     "iopub.execute_input": "2022-11-08T18:16:25.83366Z",
     "iopub.status.busy": "2022-11-08T18:16:25.833245Z",
     "iopub.status.idle": "2022-11-08T18:16:26.015314Z",
     "shell.execute_reply": "2022-11-08T18:16:26.014067Z"
    },
    "id": "c6fb95a4",
    "outputId": "84bdca8b-0a5b-42c3-fd02-676a9a18d90c",
    "papermill": {
     "duration": 0.196671,
     "end_time": "2022-11-08T18:16:26.017646",
     "exception": false,
     "start_time": "2022-11-08T18:16:25.820975",
     "status": "completed"
    },
    "tags": []
   },
   "outputs": [
    {
     "data": {
      "image/png": "[encoded data removed]",
      "text/plain": [
       "<Figure size 640x480 with 2 Axes>"
      ]
     },
     "metadata": {},
     "output_type": "display_data"
    },
    {
     "name": "stdout",
     "output_type": "stream",
     "text": [
      " Accuracy is 0.928\n",
      "              precision    recall  f1-score   support\n",
      "\n",
      "           0       0.92      0.98      0.95        81\n",
      "           1       0.95      0.84      0.89        44\n",
      "\n",
      "    accuracy                           0.93       125\n",
      "   macro avg       0.93      0.91      0.92       125\n",
      "weighted avg       0.93      0.93      0.93       125\n",
      "\n"
     ]
    }
   ],
   "source": [
    "ConfusionMatrixDisplay.from_predictions(y_test,y_pred_rf)\n",
    "plt.title('Random Forest')\n",
    "plt.show()\n",
    "print(f\" Accuracy is {accuracy_score(y_test,y_pred_rf)}\")\n",
    "print(classification_report(y_test,y_pred_rf))"
   ]
  },
  {
   "cell_type": "code",
   "execution_count": null,
   "id": "0e2c7a07",
   "metadata": {
    "id": "0e2c7a07",
    "papermill": {
     "duration": 0.010036,
     "end_time": "2022-11-08T18:16:26.038145",
     "exception": false,
     "start_time": "2022-11-08T18:16:26.028109",
     "status": "completed"
    },
    "tags": []
   },
   "outputs": [],
   "source": []
  }
 ],
 "metadata": {
  "colab": {
   "provenance": []
  },
  "kernelspec": {
   "display_name": "Python 3 (ipykernel)",
   "language": "python",
   "name": "python3"
  },
  "language_info": {
   "codemirror_mode": {
    "name": "ipython",
    "version": 3
   },
   "file_extension": ".py",
   "mimetype": "text/x-python",
   "name": "python",
   "nbconvert_exporter": "python",
   "pygments_lexer": "ipython3",
   "version": "3.11.5"
  },
  "papermill": {
   "default_parameters": {},
   "duration": 13.227095,
   "end_time": "2022-11-08T18:16:26.871462",
   "environment_variables": {},
   "exception": null,
   "input_path": "__notebook__.ipynb",
   "output_path": "__notebook__.ipynb",
   "parameters": {},
   "start_time": "2022-11-08T18:16:13.644367",
   "version": "2.3.4"
  }
 },
 "nbformat": 4,
 "nbformat_minor": 5
}
